{
 "cells": [
  {
   "cell_type": "code",
   "execution_count": 2,
   "id": "3cccc102-efaa-4aba-a3b4-06ab92e13a41",
   "metadata": {},
   "outputs": [
    {
     "name": "stdout",
     "output_type": "stream",
     "text": [
      "Collecting pymongo\n",
      "  Downloading pymongo-4.10.1-cp311-cp311-win_amd64.whl.metadata (22 kB)\n",
      "Requirement already satisfied: dnspython<3.0.0,>=1.16.0 in c:\\users\\peter_4bywd5d\\anaconda3\\lib\\site-packages (from pymongo) (2.6.1)\n",
      "Downloading pymongo-4.10.1-cp311-cp311-win_amd64.whl (876 kB)\n",
      "   ---------------------------------------- 0.0/876.5 kB ? eta -:--:--\n",
      "   ---------------------------------------- 10.2/876.5 kB ? eta -:--:--\n",
      "   - ------------------------------------- 41.0/876.5 kB 495.5 kB/s eta 0:00:02\n",
      "   -- ------------------------------------ 61.4/876.5 kB 550.5 kB/s eta 0:00:02\n",
      "   --- ----------------------------------- 71.7/876.5 kB 357.2 kB/s eta 0:00:03\n",
      "   ----- -------------------------------- 122.9/876.5 kB 516.7 kB/s eta 0:00:02\n",
      "   ------- ------------------------------ 184.3/876.5 kB 656.9 kB/s eta 0:00:02\n",
      "   ------- ------------------------------ 184.3/876.5 kB 656.9 kB/s eta 0:00:02\n",
      "   --------- ---------------------------- 215.0/876.5 kB 570.5 kB/s eta 0:00:02\n",
      "   --------- ---------------------------- 215.0/876.5 kB 570.5 kB/s eta 0:00:02\n",
      "   --------- ---------------------------- 215.0/876.5 kB 570.5 kB/s eta 0:00:02\n",
      "   --------- ---------------------------- 215.0/876.5 kB 570.5 kB/s eta 0:00:02\n",
      "   --------- ---------------------------- 215.0/876.5 kB 570.5 kB/s eta 0:00:02\n",
      "   --------------- ---------------------- 348.2/876.5 kB 569.8 kB/s eta 0:00:01\n",
      "   --------------- ---------------------- 348.2/876.5 kB 569.8 kB/s eta 0:00:01\n",
      "   --------------- ---------------------- 348.2/876.5 kB 569.8 kB/s eta 0:00:01\n",
      "   --------------- ---------------------- 348.2/876.5 kB 569.8 kB/s eta 0:00:01\n",
      "   --------------- ---------------------- 348.2/876.5 kB 569.8 kB/s eta 0:00:01\n",
      "   -------------------- ----------------- 481.3/876.5 kB 558.8 kB/s eta 0:00:01\n",
      "   -------------------- ----------------- 481.3/876.5 kB 558.8 kB/s eta 0:00:01\n",
      "   -------------------- ----------------- 481.3/876.5 kB 558.8 kB/s eta 0:00:01\n",
      "   -------------------- ----------------- 481.3/876.5 kB 558.8 kB/s eta 0:00:01\n",
      "   ----------------------- -------------- 542.7/876.5 kB 516.5 kB/s eta 0:00:01\n",
      "   -------------------------- ----------- 614.4/876.5 kB 560.4 kB/s eta 0:00:01\n",
      "   ----------------------------- -------- 675.8/876.5 kB 583.9 kB/s eta 0:00:01\n",
      "   ----------------------------- -------- 675.8/876.5 kB 583.9 kB/s eta 0:00:01\n",
      "   ------------------------------- ------ 727.0/876.5 kB 580.9 kB/s eta 0:00:01\n",
      "   ---------------------------------- --- 788.5/876.5 kB 607.5 kB/s eta 0:00:01\n",
      "   ------------------------------------ - 839.7/876.5 kB 632.2 kB/s eta 0:00:01\n",
      "   -------------------------------------  870.4/876.5 kB 625.6 kB/s eta 0:00:01\n",
      "   -------------------------------------- 876.5/876.5 kB 630.0 kB/s eta 0:00:00\n",
      "Installing collected packages: pymongo\n",
      "Successfully installed pymongo-4.10.1\n",
      "Note: you may need to restart the kernel to use updated packages.\n"
     ]
    }
   ],
   "source": [
    "pip install pymongo"
   ]
  },
  {
   "cell_type": "code",
   "execution_count": 5,
   "id": "49c0c95a-4124-4d2b-ab7f-33abff344c4e",
   "metadata": {},
   "outputs": [
    {
     "name": "stdout",
     "output_type": "stream",
     "text": [
      "Requirement already satisfied: Flask in c:\\users\\peter_4bywd5d\\anaconda3\\lib\\site-packages (2.2.5)\n",
      "Requirement already satisfied: pymongo in c:\\users\\peter_4bywd5d\\anaconda3\\lib\\site-packages (4.10.1)\n",
      "Requirement already satisfied: Werkzeug>=2.2.2 in c:\\users\\peter_4bywd5d\\anaconda3\\lib\\site-packages (from Flask) (2.2.3)\n",
      "Requirement already satisfied: Jinja2>=3.0 in c:\\users\\peter_4bywd5d\\anaconda3\\lib\\site-packages (from Flask) (3.1.3)\n",
      "Requirement already satisfied: itsdangerous>=2.0 in c:\\users\\peter_4bywd5d\\anaconda3\\lib\\site-packages (from Flask) (2.0.1)\n",
      "Requirement already satisfied: click>=8.0 in c:\\users\\peter_4bywd5d\\anaconda3\\lib\\site-packages (from Flask) (8.1.7)\n",
      "Requirement already satisfied: dnspython<3.0.0,>=1.16.0 in c:\\users\\peter_4bywd5d\\anaconda3\\lib\\site-packages (from pymongo) (2.6.1)\n",
      "Requirement already satisfied: colorama in c:\\users\\peter_4bywd5d\\anaconda3\\lib\\site-packages (from click>=8.0->Flask) (0.4.6)\n",
      "Requirement already satisfied: MarkupSafe>=2.0 in c:\\users\\peter_4bywd5d\\anaconda3\\lib\\site-packages (from Jinja2>=3.0->Flask) (2.1.3)\n",
      "Note: you may need to restart the kernel to use updated packages.\n"
     ]
    }
   ],
   "source": [
    "pip install Flask pymongo\n"
   ]
  },
  {
   "cell_type": "code",
   "execution_count": null,
   "id": "dd4850fa-4617-41db-b06b-b2b069bdb8ea",
   "metadata": {},
   "outputs": [
    {
     "name": "stdout",
     "output_type": "stream",
     "text": [
      " * Serving Flask app '__main__'\n",
      " * Debug mode: on\n"
     ]
    },
    {
     "name": "stderr",
     "output_type": "stream",
     "text": [
      "WARNING: This is a development server. Do not use it in a production deployment. Use a production WSGI server instead.\n",
      " * Running on all addresses (0.0.0.0)\n",
      " * Running on http://127.0.0.1:5000\n",
      " * Running on http://172.18.34.158:5000\n",
      "Press CTRL+C to quit\n"
     ]
    }
   ],
   "source": [
    "from flask import Flask, render_template, request\n",
    "from pymongo import MongoClient\n",
    "\n",
    "app = Flask(__name__)\n",
    "\n",
    "# MongoDB connection (adjust as per your local MongoDB setup)\n",
    "client = MongoClient('mongodb://localhost:27017/')\n",
    "db = client['local']  # The database name\n",
    "collection = db['startup_log']  # The collection name\n",
    "\n",
    "@app.route('/')\n",
    "def index():\n",
    "    # Fetch all documents from the startup_log collection\n",
    "    data = list(collection.find({}))\n",
    "    # Convert MongoDB documents to JSON-friendly format\n",
    "    for doc in data:\n",
    "        doc['_id'] = str(doc['_id'])  # Convert ObjectId to string for HTML rendering\n",
    "\n",
    "    return render_template('index.html', data=data)\n",
    "\n",
    "@app.route('/add_data', methods=['POST'])\n",
    "def add_data():\n",
    "    # Get the data from the form\n",
    "    name = request.form['name']\n",
    "    description = request.form['description']\n",
    "\n",
    "    # Insert the new data into the MongoDB collection\n",
    "    collection.insert_one({'name': name, 'description': description})\n",
    "\n",
    "    # Return the new data as a JSON response\n",
    "    return {'name': name, 'description': description}\n",
    "\n",
    "if __name__ == '__main__':\n",
    "    app.run(host=\"0.0.0.0\", port=5000, debug=True, use_reloader=False)\n",
    "\n"
   ]
  },
  {
   "cell_type": "code",
   "execution_count": null,
   "id": "1b3d86bc-4ffe-4e2e-bfd9-0ce1abd98391",
   "metadata": {},
   "outputs": [],
   "source": []
  }
 ],
 "metadata": {
  "kernelspec": {
   "display_name": "Python 3 (ipykernel)",
   "language": "python",
   "name": "python3"
  },
  "language_info": {
   "codemirror_mode": {
    "name": "ipython",
    "version": 3
   },
   "file_extension": ".py",
   "mimetype": "text/x-python",
   "name": "python",
   "nbconvert_exporter": "python",
   "pygments_lexer": "ipython3",
   "version": "3.11.7"
  }
 },
 "nbformat": 4,
 "nbformat_minor": 5
}
