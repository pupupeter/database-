{
 "cells": [
  {
   "cell_type": "code",
   "execution_count": null,
   "id": "54a2e48a-d117-45e6-a178-c7ac686b0bfe",
   "metadata": {},
   "outputs": [
    {
     "name": "stdout",
     "output_type": "stream",
     "text": [
      " * Serving Flask app '__main__'\n",
      " * Debug mode: on\n"
     ]
    },
    {
     "name": "stderr",
     "output_type": "stream",
     "text": [
      "WARNING: This is a development server. Do not use it in a production deployment. Use a production WSGI server instead.\n",
      " * Running on all addresses (0.0.0.0)\n",
      " * Running on http://127.0.0.1:5000\n",
      " * Running on http://172.18.34.158:5000\n",
      "Press CTRL+C to quit\n",
      "172.18.34.158 - - [28/Oct/2024 09:40:04] \"GET / HTTP/1.1\" 200 -\n",
      "172.18.34.158 - - [28/Oct/2024 09:40:06] \"GET /create HTTP/1.1\" 200 -\n",
      "172.18.34.158 - - [28/Oct/2024 09:40:13] \"GET /create HTTP/1.1\" 200 -\n",
      "172.18.34.158 - - [28/Oct/2024 09:40:16] \"POST /add_data HTTP/1.1\" 302 -\n",
      "172.18.34.158 - - [28/Oct/2024 09:40:16] \"GET / HTTP/1.1\" 200 -\n",
      "172.18.34.158 - - [28/Oct/2024 09:40:27] \"GET /create HTTP/1.1\" 200 -\n",
      "172.18.34.158 - - [28/Oct/2024 09:40:29] \"POST /add_data HTTP/1.1\" 302 -\n",
      "172.18.34.158 - - [28/Oct/2024 09:40:29] \"GET / HTTP/1.1\" 200 -\n"
     ]
    }
   ],
   "source": [
    "from flask import Flask, render_template, request, redirect, url_for\n",
    "from pymongo import MongoClient\n",
    "\n",
    "app = Flask(__name__)\n",
    "\n",
    "# MongoDB 連接（根據你的本地 MongoDB 配置進行調整）\n",
    "client = MongoClient('mongodb://localhost:27017/')\n",
    "db = client['local']  # 資料庫名稱\n",
    "collection = db['startup_log']  # 集合名稱\n",
    "\n",
    "@app.route('/')\n",
    "def index():\n",
    "    # 從 startup_log 集合中獲取所有文檔\n",
    "    data = list(collection.find({}))\n",
    "    # 將 ObjectId 轉換為字符串，以便在 HTML 中顯示\n",
    "    for doc in data:\n",
    "        doc['_id'] = str(doc['_id'])\n",
    "    \n",
    "    return render_template('123.html', data=data)\n",
    "\n",
    "@app.route('/create')\n",
    "def create():\n",
    "    # 顯示新增資料的表單頁面\n",
    "    return render_template('create.html')\n",
    "\n",
    "@app.route('/add_data', methods=['POST'])\n",
    "def add_data():\n",
    "    # 從表單中獲取數據\n",
    "    name = request.form['name']\n",
    "    description = request.form['description']\n",
    "    profession = request.form['profession']  # 新增的職業字段\n",
    "\n",
    "    # 將新數據插入到 MongoDB 集合中\n",
    "    collection.insert_one({'name': name, 'description': description, 'profession': profession})\n",
    "\n",
    "    # 提交後重定向到首頁以顯示新添加的數據\n",
    "    return redirect(url_for('index'))\n",
    "\n",
    "if __name__ == '__main__':\n",
    "    app.run(host=\"0.0.0.0\", port=5000, debug=True, use_reloader=False)\n"
   ]
  },
  {
   "cell_type": "code",
   "execution_count": null,
   "id": "0eb23438-b12b-436a-aa9e-036a6ea8d8e7",
   "metadata": {},
   "outputs": [],
   "source": []
  }
 ],
 "metadata": {
  "kernelspec": {
   "display_name": "Python 3 (ipykernel)",
   "language": "python",
   "name": "python3"
  },
  "language_info": {
   "codemirror_mode": {
    "name": "ipython",
    "version": 3
   },
   "file_extension": ".py",
   "mimetype": "text/x-python",
   "name": "python",
   "nbconvert_exporter": "python",
   "pygments_lexer": "ipython3",
   "version": "3.11.7"
  }
 },
 "nbformat": 4,
 "nbformat_minor": 5
}
