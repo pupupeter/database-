{
 "cells": [
  {
   "cell_type": "markdown",
   "id": "d7f205e5-2de6-4c35-bb47-7ccc933888c9",
   "metadata": {},
   "source": [
    "pip install Flask"
   ]
  },
  {
   "cell_type": "markdown",
   "id": "358640f3-6a56-4bb2-9e93-66f15eaa4393",
   "metadata": {},
   "source": [
    "pip install Flask mysql-connector-python"
   ]
  },
  {
   "cell_type": "markdown",
   "id": "334687af-a41e-40d9-9755-64a6205128ce",
   "metadata": {},
   "source": [
    "pip install Flask Flask-SQLAlchemy"
   ]
  },
  {
   "cell_type": "markdown",
   "id": "44fc7ccf-a677-4097-9ac2-27785d0060f6",
   "metadata": {},
   "source": [
    "pip install mysqlclient"
   ]
  },
  {
   "cell_type": "code",
   "execution_count": 1,
   "id": "e9bbe397-90ad-4203-8896-513369a06ce9",
   "metadata": {},
   "outputs": [
    {
     "name": "stdout",
     "output_type": "stream",
     "text": [
      " * Serving Flask app '__main__'\n",
      " * Debug mode: off\n"
     ]
    },
    {
     "name": "stderr",
     "output_type": "stream",
     "text": [
      "WARNING: This is a development server. Do not use it in a production deployment. Use a production WSGI server instead.\n",
      " * Running on all addresses (0.0.0.0)\n",
      " * Running on http://127.0.0.1:8080\n",
      " * Running on http://172.18.34.158:8080\n",
      "Press CTRL+C to quit\n"
     ]
    }
   ],
   "source": [
    "from flask import Flask\n",
    "app= Flask(__name__)\n",
    "@app.route('/')\n",
    "def hello_world():\n",
    "    return 'Hello,World!'\n",
    "if __name__=='__main__':\n",
    "    app.run(host='0.0.0.0', port=8080)"
   ]
  },
  {
   "cell_type": "code",
   "execution_count": null,
   "id": "bf452ff4-cc79-4cc2-af70-129eebf2dc62",
   "metadata": {},
   "outputs": [],
   "source": []
  },
  {
   "cell_type": "code",
   "execution_count": null,
   "id": "8225bac8-68fe-4902-a346-0ab7aa58e8fc",
   "metadata": {},
   "outputs": [],
   "source": []
  },
  {
   "cell_type": "markdown",
   "id": "77c70e91-0354-485b-a350-92c9cdb1559c",
   "metadata": {},
   "source": []
  },
  {
   "cell_type": "markdown",
   "id": "4a00e53c-79bf-4714-a112-27201fe47db6",
   "metadata": {},
   "source": []
  },
  {
   "cell_type": "markdown",
   "id": "046e7fdb-5bd7-4cd0-9a60-216b8a7a5df0",
   "metadata": {},
   "source": []
  },
  {
   "cell_type": "code",
   "execution_count": null,
   "id": "df0ab15b-96a1-4491-a092-f496dc9509c4",
   "metadata": {},
   "outputs": [],
   "source": []
  },
  {
   "cell_type": "code",
   "execution_count": null,
   "id": "4cd64163-7e8c-4bdd-8ed9-f1c65f1f4f16",
   "metadata": {},
   "outputs": [],
   "source": []
  }
 ],
 "metadata": {
  "kernelspec": {
   "display_name": "Python 3 (ipykernel)",
   "language": "python",
   "name": "python3"
  },
  "language_info": {
   "codemirror_mode": {
    "name": "ipython",
    "version": 3
   },
   "file_extension": ".py",
   "mimetype": "text/x-python",
   "name": "python",
   "nbconvert_exporter": "python",
   "pygments_lexer": "ipython3",
   "version": "3.11.7"
  }
 },
 "nbformat": 4,
 "nbformat_minor": 5
}
