{
 "cells": [
  {
   "cell_type": "code",
   "execution_count": null,
   "id": "e80d64f2-c076-470e-a57b-7d272c31070e",
   "metadata": {},
   "outputs": [
    {
     "name": "stdout",
     "output_type": "stream",
     "text": [
      " * Serving Flask app '__main__'\n",
      " * Debug mode: on\n"
     ]
    },
    {
     "name": "stderr",
     "output_type": "stream",
     "text": [
      "WARNING: This is a development server. Do not use it in a production deployment. Use a production WSGI server instead.\n",
      " * Running on all addresses (0.0.0.0)\n",
      " * Running on http://127.0.0.1:5000\n",
      " * Running on http://192.168.110.8:5000\n",
      "Press CTRL+C to quit\n",
      "192.168.110.8 - - [16/Oct/2024 10:44:53] \"GET / HTTP/1.1\" 200 -\n"
     ]
    }
   ],
   "source": [
    "from flask import Flask, render_template, request, redirect, url_for, flash\n",
    "import mysql.connector\n",
    "\n",
    "app = Flask(__name__)\n",
    "app.secret_key = 'peter930512'  # 用于会话管理的密钥\n",
    "\n",
    "# 配置你的 MySQL 连接\n",
    "conn = mysql.connector.connect(\n",
    "    host='localhost',\n",
    "    user='root',\n",
    "    password='peter930512',\n",
    "    database='專題用'\n",
    ")\n",
    "\n",
    "@app.route('/', methods=['GET', 'POST'])\n",
    "def manage_users():\n",
    "    cursor = conn.cursor(dictionary=True)\n",
    "\n",
    "    # 添加用户\n",
    "    if request.method == 'POST':\n",
    "        if 'add' in request.form:  # 检查是否为添加用户请求\n",
    "            name = request.form['name']\n",
    "            email = request.form['email']\n",
    "            cursor.execute(\"INSERT INTO Users (Name, Email) VALUES (%s, %s)\", (name, email))\n",
    "            conn.commit()\n",
    "            flash('用户添加成功!')\n",
    "        elif 'update' in request.form:  # 更新用户请求\n",
    "            user_id = request.form['user_id']\n",
    "            name = request.form['name']\n",
    "            email = request.form['email']\n",
    "            cursor.execute(\"UPDATE Users SET Name = %s, Email = %s WHERE UserID = %s\", (name, email, user_id))\n",
    "            conn.commit()\n",
    "            flash('用户信息更新成功!')\n",
    "        elif 'delete' in request.form:  # 删除用户请求\n",
    "            user_id = request.form['user_id']\n",
    "            cursor.execute(\"DELETE FROM Users WHERE UserID = %s\", (user_id,))\n",
    "            conn.commit()\n",
    "            flash('用户删除成功!')\n",
    "\n",
    "    # 查询所有用户\n",
    "    cursor.execute(\"SELECT Users.UserID, Users.Name, Users.Email FROM Users;\")\n",
    "    user_results = cursor.fetchall()\n",
    "\n",
    "    # 处理按姓名和产品名称筛选条件\n",
    "    name_filter = request.args.get('name_filter', '')  # 从GET请求接收姓名筛选条件\n",
    "    product_filter = request.args.get('product_filter', '')  # 从GET请求接收产品名称筛选条件\n",
    "    query_params = []\n",
    "\n",
    "    # INNER JOIN 查询（根据姓名和产品名称筛选）\n",
    "    sql_query = \"\"\"\n",
    "        SELECT Users.UserID, Users.Name, Users.Email, Insurance_Products.ProductName, Recommendations.RecommendationReason, \n",
    "               Chatbot_Interactions.UserQuery, Chatbot_Interactions.BotResponse\n",
    "        FROM Users\n",
    "        INNER JOIN Recommendations ON Users.UserID = Recommendations.UserID\n",
    "        INNER JOIN Insurance_Products ON Recommendations.ProductID = Insurance_Products.ProductID\n",
    "        INNER JOIN Chatbot_Interactions ON Users.UserID = Chatbot_Interactions.UserID\n",
    "    \"\"\"\n",
    "    filters = []\n",
    "\n",
    "    if name_filter:  # 如果有提供姓名筛选\n",
    "        filters.append(\"Users.Name LIKE %s\")\n",
    "        query_params.append(f\"%{name_filter}%\")  # 使用模糊匹配\n",
    "\n",
    "    if product_filter:  # 如果有提供产品名称筛选\n",
    "        filters.append(\"Insurance_Products.ProductName LIKE %s\")\n",
    "        query_params.append(f\"%{product_filter}%\")  # 使用模糊匹配\n",
    "\n",
    "    if filters:  # 如果有任何过滤条件，则加上 WHERE 子句\n",
    "        sql_query += \" WHERE \" + \" AND \".join(filters)\n",
    "\n",
    "    cursor.execute(sql_query, query_params)\n",
    "    join_results = cursor.fetchall()\n",
    "    cursor.close()\n",
    "\n",
    "    return render_template('template1.html', user_results=user_results, join_results=join_results)\n",
    "\n",
    "# 运行 Flask 应用\n",
    "if __name__ == '__main__':\n",
    "    app.run(host=\"0.0.0.0\", port=5000, debug=True, use_reloader=False)\n"
   ]
  },
  {
   "cell_type": "code",
   "execution_count": null,
   "id": "1958481a-1c64-4a3d-a105-ecd4257b68e2",
   "metadata": {},
   "outputs": [],
   "source": []
  }
 ],
 "metadata": {
  "kernelspec": {
   "display_name": "Python 3 (ipykernel)",
   "language": "python",
   "name": "python3"
  },
  "language_info": {
   "codemirror_mode": {
    "name": "ipython",
    "version": 3
   },
   "file_extension": ".py",
   "mimetype": "text/x-python",
   "name": "python",
   "nbconvert_exporter": "python",
   "pygments_lexer": "ipython3",
   "version": "3.11.7"
  }
 },
 "nbformat": 4,
 "nbformat_minor": 5
}
