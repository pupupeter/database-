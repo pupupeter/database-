{
 "cells": [
  {
   "cell_type": "code",
   "execution_count": null,
   "id": "1da67723-4d41-4667-af8f-310c58e83d80",
   "metadata": {},
   "outputs": [
    {
     "name": "stdout",
     "output_type": "stream",
     "text": [
      " * Serving Flask app '__main__'\n",
      " * Debug mode: on\n"
     ]
    },
    {
     "name": "stderr",
     "output_type": "stream",
     "text": [
      "WARNING: This is a development server. Do not use it in a production deployment. Use a production WSGI server instead.\n",
      " * Running on http://127.0.0.1:5000\n",
      "Press CTRL+C to quit\n",
      "127.0.0.1 - - [16/Sep/2024 10:42:16] \"GET / HTTP/1.1\" 200 -\n",
      "127.0.0.1 - - [16/Sep/2024 10:42:48] \"POST / HTTP/1.1\" 200 -\n"
     ]
    }
   ],
   "source": [
    "from flask import Flask, request, render_template, redirect, url_for\n",
    "import mysql.connector\n",
    "\n",
    "app = Flask(__name__)\n",
    "\n",
    "db_config = {\n",
    "    'user': 'root',\n",
    "    'password': 'peter930512',\n",
    "    'host': 'localhost',\n",
    "    'database': 'sakila'\n",
    "}\n",
    "\n",
    "@app.route('/', methods=['GET', 'POST'])\n",
    "def index():\n",
    "    conn = mysql.connector.connect(**db_config)\n",
    "    cursor = conn.cursor()\n",
    "\n",
    "    if request.method == 'POST':\n",
    "        # 获取表单输入的多个字段\n",
    "        address = request.form['address']\n",
    "        address2 = request.form['address2']\n",
    "        district = request.form['district']\n",
    "        city_id = request.form['city_id']\n",
    "        postal_code = request.form['postal_code']\n",
    "        phone = request.form['phone']\n",
    "        # 如果没有提供 location，设置为 NULL\n",
    "        location = request.form.get('location', None)\n",
    "\n",
    "        # 插入到数据库\n",
    "        insert_query = \"\"\"\n",
    "            INSERT INTO address (address, address2, district, city_id, postal_code, phone, location, last_update)\n",
    "            VALUES (%s, %s, %s, %s, %s, %s, ST_GeomFromText(%s), NOW())\n",
    "        \"\"\"\n",
    "        # 使用 None 如果 location 不存在\n",
    "        cursor.execute(insert_query, (address, address2, district, city_id, postal_code, phone, 'POINT(0 0)' if not location else location))\n",
    "        conn.commit()\n",
    "\n",
    "    # 查询所有已插入的地址\n",
    "    select_query = \"SELECT address, address2, district, city_id, postal_code, phone FROM address\"\n",
    "    cursor.execute(select_query)\n",
    "    addresses = cursor.fetchall()\n",
    "\n",
    "    cursor.close()\n",
    "    conn.close()\n",
    "\n",
    "    return render_template('index.html', addresses=addresses)\n",
    "\n",
    "\n",
    "if __name__ == '__main__':\n",
    "    app.run(debug=True, use_reloader=False)\n"
   ]
  },
  {
   "cell_type": "code",
   "execution_count": null,
   "id": "46e82061-9185-4736-929b-8a7c1c523f56",
   "metadata": {},
   "outputs": [],
   "source": []
  }
 ],
 "metadata": {
  "kernelspec": {
   "display_name": "Python 3 (ipykernel)",
   "language": "python",
   "name": "python3"
  },
  "language_info": {
   "codemirror_mode": {
    "name": "ipython",
    "version": 3
   },
   "file_extension": ".py",
   "mimetype": "text/x-python",
   "name": "python",
   "nbconvert_exporter": "python",
   "pygments_lexer": "ipython3",
   "version": "3.11.7"
  }
 },
 "nbformat": 4,
 "nbformat_minor": 5
}
