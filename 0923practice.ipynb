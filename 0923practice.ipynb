{
 "cells": [
  {
   "cell_type": "code",
   "execution_count": null,
   "id": "9b619415-1498-41f6-a0e3-64bdbd58d91e",
   "metadata": {},
   "outputs": [
    {
     "name": "stdout",
     "output_type": "stream",
     "text": [
      " * Serving Flask app '__main__'\n",
      " * Debug mode: on\n"
     ]
    },
    {
     "name": "stderr",
     "output_type": "stream",
     "text": [
      "WARNING: This is a development server. Do not use it in a production deployment. Use a production WSGI server instead.\n",
      " * Running on http://127.0.0.1:5000\n",
      "Press CTRL+C to quit\n",
      "127.0.0.1 - - [23/Sep/2024 09:56:02] \"GET / HTTP/1.1\" 200 -\n",
      "127.0.0.1 - - [23/Sep/2024 09:56:07] \"POST / HTTP/1.1\" 200 -\n"
     ]
    }
   ],
   "source": [
    "from flask import Flask, request, render_template, redirect, url_for, session\n",
    "import mysql.connector\n",
    "\n",
    "app = Flask(__name__)\n",
    "app.secret_key = 'your key'\n",
    "\n",
    "db_config = {\n",
    "    'user': 'root',\n",
    "    'password': 'your password',\n",
    "    'host': 'localhost',\n",
    "    'database': 'sakila'\n",
    "}\n",
    "\n",
    "@app.route('/', methods=['GET', 'POST'])\n",
    "def index():\n",
    "    conn = mysql.connector.connect(**db_config)\n",
    "    cursor = conn.cursor()\n",
    "\n",
    "    # Initialize or retrieve the last seen timestamp from the session\n",
    "    last_seen_timestamp = session.get('last_seen_timestamp', '1970-01-01 00:00:00')\n",
    "\n",
    "    if request.method == 'POST':\n",
    "        # Get form inputs\n",
    "        address = request.form['address']\n",
    "        address2 = request.form['address2']\n",
    "        district = request.form['district']\n",
    "        city_id = request.form['city_id']\n",
    "        postal_code = request.form['postal_code']\n",
    "        phone = request.form['phone']\n",
    "        location = request.form.get('location', None)\n",
    "\n",
    "        # Insert the new record into the database\n",
    "        insert_query = \"\"\"\n",
    "            INSERT INTO address (address, address2, district, city_id, postal_code, phone, location, last_update)\n",
    "            VALUES (%s, %s, %s, %s, %s, %s, ST_GeomFromText(%s), NOW())\n",
    "        \"\"\"\n",
    "        cursor.execute(insert_query, (address, address2, district, city_id, postal_code, phone, 'POINT(0 0)' if not location else location))\n",
    "        conn.commit()\n",
    "\n",
    "        # Update the session with the current timestamp (last update)\n",
    "        session['last_seen_timestamp'] = last_seen_timestamp = cursor.lastrowid\n",
    "\n",
    "    # Query for newly added records since the last seen timestamp\n",
    "    select_query = \"\"\"\n",
    "        SELECT address, address2, district, city_id, postal_code, phone, last_update\n",
    "        FROM address\n",
    "        WHERE last_update > %s\n",
    "        ORDER BY last_update DESC\n",
    "    \"\"\"\n",
    "    cursor.execute(select_query, (last_seen_timestamp,))\n",
    "    new_addresses = cursor.fetchall()\n",
    "\n",
    "    cursor.close()\n",
    "    conn.close()\n",
    "\n",
    "    return render_template('index1.html', addresses=new_addresses)\n",
    "\n",
    "\n",
    "if __name__ == '__main__':\n",
    "    app.run(debug=True, use_reloader=False)\n"
   ]
  },
  {
   "cell_type": "code",
   "execution_count": null,
   "id": "0834f67d-746b-4ca9-a875-33d9374941f0",
   "metadata": {},
   "outputs": [],
   "source": []
  }
 ],
 "metadata": {
  "kernelspec": {
   "display_name": "Python 3 (ipykernel)",
   "language": "python",
   "name": "python3"
  },
  "language_info": {
   "codemirror_mode": {
    "name": "ipython",
    "version": 3
   },
   "file_extension": ".py",
   "mimetype": "text/x-python",
   "name": "python",
   "nbconvert_exporter": "python",
   "pygments_lexer": "ipython3",
   "version": "3.11.7"
  }
 },
 "nbformat": 4,
 "nbformat_minor": 5
}
