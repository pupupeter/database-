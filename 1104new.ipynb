{
 "cells": [
  {
   "cell_type": "code",
   "execution_count": null,
   "id": "de54de67-65b6-4454-ad08-4066a10db884",
   "metadata": {},
   "outputs": [
    {
     "name": "stdout",
     "output_type": "stream",
     "text": [
      " * Serving Flask app '__main__'\n",
      " * Debug mode: on\n"
     ]
    },
    {
     "name": "stderr",
     "output_type": "stream",
     "text": [
      "WARNING: This is a development server. Do not use it in a production deployment. Use a production WSGI server instead.\n",
      " * Running on all addresses (0.0.0.0)\n",
      " * Running on http://127.0.0.1:8080\n",
      " * Running on http://172.18.34.158:8080\n",
      "Press CTRL+C to quit\n",
      "127.0.0.1 - - [04/Nov/2024 10:39:09] \"GET / HTTP/1.1\" 200 -\n",
      "127.0.0.1 - - [04/Nov/2024 10:39:09] \"GET /favicon.ico HTTP/1.1\" 404 -\n",
      "127.0.0.1 - - [04/Nov/2024 10:39:27] \"GET / HTTP/1.1\" 200 -\n",
      "127.0.0.1 - - [04/Nov/2024 10:39:27] \"GET /favicon.ico HTTP/1.1\" 404 -\n",
      "127.0.0.1 - - [04/Nov/2024 10:39:35] \"GET / HTTP/1.1\" 200 -\n",
      "127.0.0.1 - - [04/Nov/2024 10:40:37] \"GET / HTTP/1.1\" 200 -\n",
      "127.0.0.1 - - [04/Nov/2024 10:40:37] \"GET /favicon.ico HTTP/1.1\" 404 -\n"
     ]
    }
   ],
   "source": [
    "from flask import Flask, render_template, request, redirect, url_for\n",
    "from pymongo import MongoClient\n",
    "import re\n",
    "\n",
    "app = Flask(__name__)\n",
    "\n",
    "# MongoDB 連接（根據你的本地 MongoDB 配置進行調整）\n",
    "client = MongoClient('mongodb://localhost:27017/')\n",
    "db = client['local']  # 資料庫名稱\n",
    "collection = db['startup_log']  # 集合名稱\n",
    "\n",
    "@app.route('/')\n",
    "def index():\n",
    "    # 獲取搜尋關鍵字\n",
    "    search_query = request.args.get('search', '')\n",
    "\n",
    "    # 構建搜尋條件，使用 $or 查找關鍵字出現在任意欄位的文檔\n",
    "    if search_query:\n",
    "        search_condition = {\n",
    "            \"$or\": [\n",
    "                {\"name\": {\"$regex\": search_query, \"$options\": \"i\"}},\n",
    "                {\"description\": {\"$regex\": search_query, \"$options\": \"i\"}},\n",
    "                {\"profession\": {\"$regex\": search_query, \"$options\": \"i\"}}\n",
    "            ]\n",
    "        }\n",
    "        data = list(collection.find(search_condition))\n",
    "    else:\n",
    "        # 如果沒有搜尋關鍵字，則顯示所有文檔\n",
    "        data = list(collection.find({}))\n",
    "\n",
    "    # 將 ObjectId 轉換為字符串，以便在 HTML 中顯示\n",
    "    for doc in data:\n",
    "        doc['_id'] = str(doc['_id'])\n",
    "    \n",
    "    return render_template('123-2.html', data=data, search_query=search_query)\n",
    "\n",
    "@app.route('/create')\n",
    "def create():\n",
    "    # 顯示新增資料的表單頁面\n",
    "    return render_template('search1.html')\n",
    "\n",
    "@app.route('/create', methods=['GET', 'POST'])\n",
    "def add_data():\n",
    "    if request.method == 'POST':\n",
    "        # 從表單中獲取基本數據\n",
    "        name = request.form.get('name')\n",
    "        description = request.form.get('description')\n",
    "        profession = request.form.get('profession')\n",
    "\n",
    "        # 基本字段\n",
    "        new_doc = {\n",
    "            'name': name,\n",
    "            'description': description,\n",
    "            'profession': profession\n",
    "        }\n",
    "\n",
    "        # 獲取動態新增的欄位名稱和屬性\n",
    "        field_names = request.form.getlist('fieldName[]')\n",
    "        field_values = request.form.getlist('fieldValue[]')\n",
    "\n",
    "        # 將動態欄位添加到文檔中\n",
    "        for i in range(len(field_names)):\n",
    "            field_name = field_names[i]\n",
    "            field_value = field_values[i]\n",
    "            new_doc[field_name] = field_value\n",
    "\n",
    "        # 將新數據插入到 MongoDB 集合中\n",
    "        collection.insert_one(new_doc)\n",
    "\n",
    "        # 提交後重定向到首頁以顯示新添加的數據\n",
    "        return redirect(url_for('index'))\n",
    "\n",
    "    # GET 請求時顯示新增資料的表單頁面\n",
    "    return render_template('search1.html')\n",
    "\n",
    "\n",
    "\n",
    "if __name__ == '__main__':\n",
    "    app.run(host=\"0.0.0.0\", port=8080, debug=True, use_reloader=False)\n"
   ]
  },
  {
   "cell_type": "code",
   "execution_count": null,
   "id": "721a1a6a-be30-424c-9a02-59b2f334f0ad",
   "metadata": {},
   "outputs": [],
   "source": []
  }
 ],
 "metadata": {
  "kernelspec": {
   "display_name": "Python 3 (ipykernel)",
   "language": "python",
   "name": "python3"
  },
  "language_info": {
   "codemirror_mode": {
    "name": "ipython",
    "version": 3
   },
   "file_extension": ".py",
   "mimetype": "text/x-python",
   "name": "python",
   "nbconvert_exporter": "python",
   "pygments_lexer": "ipython3",
   "version": "3.11.7"
  }
 },
 "nbformat": 4,
 "nbformat_minor": 5
}
